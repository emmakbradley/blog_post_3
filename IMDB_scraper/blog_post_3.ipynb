{
 "cells": [
  {
   "cell_type": "markdown",
   "id": "d4200752",
   "metadata": {},
   "source": [
    "Hello dear reader and welcome back! For today's blog post you will be learning how to use the Scrapy Python package to extract valuable data from websites. Our goal today is to build a simple recommendation system that will recommend movies or TV shows based on the number of actors a title shares with your favorite movie or TV show. We will extract this data from the IMDB website. Let's get started!\n",
    "\n",
    "## Getting Started with Scrapy\n",
    "\n",
    "Once you have properly installed Scrapy to your device's PIC16B environment, the first step is to created a GitHub repository and initialize your project. Run the following commands in your terminal."
   ]
  },
  {
   "cell_type": "code",
   "execution_count": null,
   "id": "d2503238",
   "metadata": {},
   "outputs": [],
   "source": [
    "conda activate PIC16B\n",
    "scrapy startproject IMDB_scraper\n",
    "cd IMDB_scraper"
   ]
  },
  {
   "cell_type": "markdown",
   "id": "470c18a4",
   "metadata": {},
   "source": [
    "Next up we will create a new file inside the `spiders` directory and title it `imdb_spider.py`. We will implement our spider in the `ImdbSpider` class of this file. The scraper works by calling various parsing methods in the `ImdbSpider` class to extract data from the web.  Add the following code to your new file. My favorte TV show is \"Grey's Anatomy\", so the URL that I added below links to the Grey's Anatomy page on IMDB. If you have a different favorite TV show or movie, feel free to change the url down below."
   ]
  },
  {
   "cell_type": "code",
   "execution_count": null,
   "id": "b2eb9bf1",
   "metadata": {},
   "outputs": [],
   "source": [
    "import scrapy\n",
    "\n",
    "class ImdbSpider(scrapy.Spider):\n",
    "    name = 'imdb_spider'\n",
    "    \n",
    "    start_urls = ['https://www.imdb.com/title/tt0413573/']"
   ]
  },
  {
   "cell_type": "markdown",
   "id": "acb53fa8",
   "metadata": {},
   "source": [
    "## Our Parsing Methods\n",
    "Our parsing methods work by essentially clicking around on the IMDB website as directed and extracting the requested data. Scrapy is able to do so by making use of two of its objects: `request` and `response`. You will see the `request` object often called at the end of each parse function below so that the next corresponding parse function is called and so that the spider can continue to scrape data. The `response` object is called so that the spider can access the data on the web page accordingly.\n",
    "\n",
    "### parse(self, response)\n",
    "Our first method starts on a title's home page and navigates to its Cast and Crew page. When we perform this action manually on the IMDB website, we see that the only difference in URL's is that the Cast and Crew page has `fullcredits/` appended to the end of our initial URL. The following function does exactly this and appends `fullcredits/` to the end of our initial URL found in the `response` object. At the end of our function we then yield a `request` object containing `next_page`, our new url we are \"clicking\" on, and `self.parse_full_credits`, the next parse method we will call."
   ]
  },
  {
   "cell_type": "code",
   "execution_count": null,
   "id": "a057756a",
   "metadata": {},
   "outputs": [],
   "source": [
    "def parse(self, response):\n",
    "    '''\n",
    "    A parsing method that navigates from a title's home page to its Cast and Crew page.\n",
    "    '''\n",
    "    # string to append to initial url\n",
    "    next_page = \"fullcredits/\"\n",
    "\n",
    "    # append string and call next parsing method\n",
    "    if next_page:\n",
    "        next_page = response.urljoin(next_page)\n",
    "        yield scrapy.Request(next_page, callback = self.parse_full_credits)"
   ]
  },
  {
   "cell_type": "markdown",
   "id": "20b93d3a",
   "metadata": {},
   "source": [
    "### parse_full_credits(self, response)\n",
    "Our next parsing method navigates to each actor's IMDB page. We do this using the list comprehension below. The URL for each page is stored in the `a` class with attribute `href` which we are able to access when we loop through `response.css(\"td.primary_photo a\")`. In cases like these you can use web development tools to inspect the elements on your page. "
   ]
  },
  {
   "cell_type": "code",
   "execution_count": null,
   "id": "32521c4e",
   "metadata": {},
   "outputs": [],
   "source": [
    "def parse_full_credits(self, response):\n",
    "    '''\n",
    "    A parsing method that navigates to each actor's profile in a title's IMDB\n",
    "    Cast and Crew page\n",
    "    '''\n",
    "    \n",
    "    # a list of all links to each actor's IMDB page\n",
    "    next_page_list = [a.attrib[\"href\"] for a in response.css(\"td.primary_photo a\")]\n",
    "\n",
    "    # navigate to each actor's IMDB page\n",
    "    for next_page in next_page_list:\n",
    "        next_page = response.urljoin(next_page)\n",
    "        yield scrapy.Request(next_page, callback = self.parse_actor_page)"
   ]
  },
  {
   "cell_type": "markdown",
   "id": "2beb41e1",
   "metadata": {},
   "source": [
    "### parse_actor_page\n",
    "Our final parsing method retrieves the actor's name and all of their movie or TV show credits. "
   ]
  },
  {
   "cell_type": "code",
   "execution_count": null,
   "id": "5b9a17b8",
   "metadata": {},
   "outputs": [],
   "source": [
    "def parse_actor_page(self, response):\n",
    "    '''\n",
    "    A parsing method for retrieving all movies and TV shows that an actor\n",
    "    is listed as performing in on IMDB.\n",
    "    '''\n",
    "    \n",
    "    # get actor name\n",
    "    actor_name = response.css(\"span.itemprop::text\").get()\n",
    "    \n",
    "    # get all movie and TV show titles\n",
    "    for element in response.css(\"div.filmo-row\"):\n",
    "        element = response.css(\"b\")\n",
    "        movie_or_tv_name = element.css(\"a::text\").getall()\n",
    "\n",
    "        this_title = \"Grey's Anatomy\"\n",
    "        movie_or_tv_name = ['!!!' + a for a in movie_or_tv_name if this_title not in a]\n",
    "\n",
    "    # yield dictionary of data\n",
    "    yield {\n",
    "        \"actor\" : actor_name,\n",
    "        \"movie_or_tv_name\": movie_or_tv_name,\n",
    "    }"
   ]
  },
  {
   "cell_type": "markdown",
   "id": "afebd161",
   "metadata": {},
   "source": [
    "## Deploying our Spider\n",
    "\n",
    "We are almost done! Our last step is to run the following command in our terminal. A csv file of the results will then be generated in our `IMDB_scraper` directory. "
   ]
  },
  {
   "cell_type": "code",
   "execution_count": null,
   "id": "69ccb3aa",
   "metadata": {},
   "outputs": [],
   "source": [
    "scrapy crawl imdb_spider -o results.csv"
   ]
  },
  {
   "cell_type": "markdown",
   "id": "5547bd24",
   "metadata": {},
   "source": [
    "## Displaying our Data\n",
    "Now that we have our data in a csv file, we just need to do a bit of cleaning so that we can visualize our results. First, read in the data and remove any rows containing NaN values."
   ]
  },
  {
   "cell_type": "code",
   "execution_count": 122,
   "id": "3648bb1d",
   "metadata": {},
   "outputs": [
    {
     "data": {
      "text/html": [
       "<div>\n",
       "<style scoped>\n",
       "    .dataframe tbody tr th:only-of-type {\n",
       "        vertical-align: middle;\n",
       "    }\n",
       "\n",
       "    .dataframe tbody tr th {\n",
       "        vertical-align: top;\n",
       "    }\n",
       "\n",
       "    .dataframe thead th {\n",
       "        text-align: right;\n",
       "    }\n",
       "</style>\n",
       "<table border=\"1\" class=\"dataframe\">\n",
       "  <thead>\n",
       "    <tr style=\"text-align: right;\">\n",
       "      <th></th>\n",
       "      <th>actor</th>\n",
       "      <th>movie_or_tv_name</th>\n",
       "    </tr>\n",
       "  </thead>\n",
       "  <tbody>\n",
       "    <tr>\n",
       "      <th>0</th>\n",
       "      <td>Brooke Blanchard</td>\n",
       "      <td>!!!Say Uncle</td>\n",
       "    </tr>\n",
       "    <tr>\n",
       "      <th>1</th>\n",
       "      <td>Arlene Santana</td>\n",
       "      <td>!!!North Star,!!!CSI: Vegas,!!!In the Darkness...</td>\n",
       "    </tr>\n",
       "    <tr>\n",
       "      <th>2</th>\n",
       "      <td>Melissa DuPrey</td>\n",
       "      <td>!!!Relative,!!!The Way We Talk,!!!Ghostwriter,...</td>\n",
       "    </tr>\n",
       "    <tr>\n",
       "      <th>3</th>\n",
       "      <td>Ellen Pompeo</td>\n",
       "      <td>!!!Station 19,!!!Doc McStuffins,!!!Taylor Swif...</td>\n",
       "    </tr>\n",
       "    <tr>\n",
       "      <th>4</th>\n",
       "      <td>John Cappon</td>\n",
       "      <td>!!!CSI: NY,!!!NYPD Blue,!!!Providence,!!!The D...</td>\n",
       "    </tr>\n",
       "    <tr>\n",
       "      <th>5</th>\n",
       "      <td>Marika Dominczyk</td>\n",
       "      <td>!!!Inventing Anna,!!!Hawaii Five-0,!!!Whiskey ...</td>\n",
       "    </tr>\n",
       "    <tr>\n",
       "      <th>6</th>\n",
       "      <td>Kathleen M. Darcy</td>\n",
       "      <td>!!!Rapid Eye Movement,!!!Deadbeat,!!!True Bloo...</td>\n",
       "    </tr>\n",
       "    <tr>\n",
       "      <th>7</th>\n",
       "      <td>Zaiver Sinnett</td>\n",
       "      <td>!!!Station 19,!!!Station 19</td>\n",
       "    </tr>\n",
       "    <tr>\n",
       "      <th>9</th>\n",
       "      <td>Nora Zehetner</td>\n",
       "      <td>!!!Boys of Summer,!!!Spring Bloom,!!!The Right...</td>\n",
       "    </tr>\n",
       "    <tr>\n",
       "      <th>10</th>\n",
       "      <td>Peyton Kennedy</td>\n",
       "      <td>!!!Murdoch Mysteries,!!!Borrasca,!!!Selfie,!!!...</td>\n",
       "    </tr>\n",
       "    <tr>\n",
       "      <th>11</th>\n",
       "      <td>Lauren Stamile</td>\n",
       "      <td>!!!The Storied Life of A.J. Fikry,!!!Let Us In...</td>\n",
       "    </tr>\n",
       "    <tr>\n",
       "      <th>12</th>\n",
       "      <td>Jeanine Mason</td>\n",
       "      <td>!!!Viral,!!!Roswell, New Mexico,!!!The Yellow ...</td>\n",
       "    </tr>\n",
       "    <tr>\n",
       "      <th>13</th>\n",
       "      <td>Evie Ryland</td>\n",
       "      <td>!!!Dave,!!!9-1-1: Lone Star,!!!Hollywood,!!!Wh...</td>\n",
       "    </tr>\n",
       "    <tr>\n",
       "      <th>14</th>\n",
       "      <td>Debra Mooney</td>\n",
       "      <td>!!!Grace and Frankie,!!!Batwoman,!!!All Rise,!...</td>\n",
       "    </tr>\n",
       "    <tr>\n",
       "      <th>16</th>\n",
       "      <td>Kinsley Fox</td>\n",
       "      <td>!!!Days of Our Lives</td>\n",
       "    </tr>\n",
       "    <tr>\n",
       "      <th>17</th>\n",
       "      <td>Jayna Fox</td>\n",
       "      <td>!!!Days of Our Lives</td>\n",
       "    </tr>\n",
       "    <tr>\n",
       "      <th>18</th>\n",
       "      <td>Abigail Spencer</td>\n",
       "      <td>!!!One Heart,!!!The Black Hole,!!!Rebel,!!!Rep...</td>\n",
       "    </tr>\n",
       "    <tr>\n",
       "      <th>19</th>\n",
       "      <td>Victor Zheng</td>\n",
       "      <td>!!!Kung Fu Bodyguard,!!!The Menu,!!!A Tale of ...</td>\n",
       "    </tr>\n",
       "    <tr>\n",
       "      <th>20</th>\n",
       "      <td>Kayla Whiting</td>\n",
       "      <td>!!!Scripts</td>\n",
       "    </tr>\n",
       "    <tr>\n",
       "      <th>21</th>\n",
       "      <td>Pablo Ramos</td>\n",
       "      <td>!!!The Prank,!!!Bullet Train,!!!Father Stu,!!!...</td>\n",
       "    </tr>\n",
       "    <tr>\n",
       "      <th>22</th>\n",
       "      <td>Jasmine Richard-Brooks</td>\n",
       "      <td>!!!Dad Stop Embarrassing Me!,!!!Orange Is the ...</td>\n",
       "    </tr>\n",
       "    <tr>\n",
       "      <th>23</th>\n",
       "      <td>Sandra Rosko</td>\n",
       "      <td>!!!Anamorphia,!!!Me Time,!!!The Shrink Next Do...</td>\n",
       "    </tr>\n",
       "    <tr>\n",
       "      <th>24</th>\n",
       "      <td>Johnny Mansbach</td>\n",
       "      <td>!!!In the Desert of Dark and Light,!!!Fill in ...</td>\n",
       "    </tr>\n",
       "    <tr>\n",
       "      <th>25</th>\n",
       "      <td>Marissa Reynolds</td>\n",
       "      <td>!!!The Way Back,!!!Silenced</td>\n",
       "    </tr>\n",
       "    <tr>\n",
       "      <th>26</th>\n",
       "      <td>Darryl Robert Small</td>\n",
       "      <td>!!!Wisp,!!!Say Goodbye,!!!Drawn like Moths,!!!...</td>\n",
       "    </tr>\n",
       "    <tr>\n",
       "      <th>27</th>\n",
       "      <td>Chad Mochrie</td>\n",
       "      <td>!!!Scorpion,!!!The Man in the High Castle,!!!B...</td>\n",
       "    </tr>\n",
       "    <tr>\n",
       "      <th>28</th>\n",
       "      <td>Justin Nardine</td>\n",
       "      <td>!!!Perry Mason,!!!Ford v Ferrari,!!!Interview ...</td>\n",
       "    </tr>\n",
       "    <tr>\n",
       "      <th>29</th>\n",
       "      <td>Nick Phillips</td>\n",
       "      <td>!!!Birds of Prey,!!!Game Shakers,!!!Black-ish,...</td>\n",
       "    </tr>\n",
       "    <tr>\n",
       "      <th>30</th>\n",
       "      <td>Reverend John Atom</td>\n",
       "      <td>!!!The Verdict with Judge Hatchett,!!!The Circ...</td>\n",
       "    </tr>\n",
       "  </tbody>\n",
       "</table>\n",
       "</div>"
      ],
      "text/plain": [
       "                     actor                                   movie_or_tv_name\n",
       "0         Brooke Blanchard                                       !!!Say Uncle\n",
       "1           Arlene Santana  !!!North Star,!!!CSI: Vegas,!!!In the Darkness...\n",
       "2           Melissa DuPrey  !!!Relative,!!!The Way We Talk,!!!Ghostwriter,...\n",
       "3             Ellen Pompeo  !!!Station 19,!!!Doc McStuffins,!!!Taylor Swif...\n",
       "4              John Cappon  !!!CSI: NY,!!!NYPD Blue,!!!Providence,!!!The D...\n",
       "5         Marika Dominczyk  !!!Inventing Anna,!!!Hawaii Five-0,!!!Whiskey ...\n",
       "6        Kathleen M. Darcy  !!!Rapid Eye Movement,!!!Deadbeat,!!!True Bloo...\n",
       "7           Zaiver Sinnett                        !!!Station 19,!!!Station 19\n",
       "9            Nora Zehetner  !!!Boys of Summer,!!!Spring Bloom,!!!The Right...\n",
       "10          Peyton Kennedy  !!!Murdoch Mysteries,!!!Borrasca,!!!Selfie,!!!...\n",
       "11          Lauren Stamile  !!!The Storied Life of A.J. Fikry,!!!Let Us In...\n",
       "12           Jeanine Mason  !!!Viral,!!!Roswell, New Mexico,!!!The Yellow ...\n",
       "13             Evie Ryland  !!!Dave,!!!9-1-1: Lone Star,!!!Hollywood,!!!Wh...\n",
       "14            Debra Mooney  !!!Grace and Frankie,!!!Batwoman,!!!All Rise,!...\n",
       "16             Kinsley Fox                               !!!Days of Our Lives\n",
       "17               Jayna Fox                               !!!Days of Our Lives\n",
       "18         Abigail Spencer  !!!One Heart,!!!The Black Hole,!!!Rebel,!!!Rep...\n",
       "19            Victor Zheng  !!!Kung Fu Bodyguard,!!!The Menu,!!!A Tale of ...\n",
       "20           Kayla Whiting                                         !!!Scripts\n",
       "21             Pablo Ramos  !!!The Prank,!!!Bullet Train,!!!Father Stu,!!!...\n",
       "22  Jasmine Richard-Brooks  !!!Dad Stop Embarrassing Me!,!!!Orange Is the ...\n",
       "23            Sandra Rosko  !!!Anamorphia,!!!Me Time,!!!The Shrink Next Do...\n",
       "24         Johnny Mansbach  !!!In the Desert of Dark and Light,!!!Fill in ...\n",
       "25        Marissa Reynolds                        !!!The Way Back,!!!Silenced\n",
       "26     Darryl Robert Small  !!!Wisp,!!!Say Goodbye,!!!Drawn like Moths,!!!...\n",
       "27            Chad Mochrie  !!!Scorpion,!!!The Man in the High Castle,!!!B...\n",
       "28          Justin Nardine  !!!Perry Mason,!!!Ford v Ferrari,!!!Interview ...\n",
       "29           Nick Phillips  !!!Birds of Prey,!!!Game Shakers,!!!Black-ish,...\n",
       "30      Reverend John Atom  !!!The Verdict with Judge Hatchett,!!!The Circ..."
      ]
     },
     "execution_count": 122,
     "metadata": {},
     "output_type": "execute_result"
    }
   ],
   "source": [
    "import pandas as pd\n",
    "df = pd.read_csv(\"results.csv\")\n",
    "df = df.dropna()\n",
    "df"
   ]
  },
  {
   "cell_type": "markdown",
   "id": "d8aeaa9a",
   "metadata": {},
   "source": [
    "As can be seen, each title is separated by a comma. We can get a list of unique titles by"
   ]
  },
  {
   "cell_type": "code",
   "execution_count": 123,
   "id": "b76b4bf3",
   "metadata": {},
   "outputs": [],
   "source": [
    "# get all unique movie or tv show names\n",
    "all_names = df['movie_or_tv_name']\n",
    "unique_list = []\n",
    "for names in all_names:\n",
    "    shorter_names = names.split(\"!!!\")\n",
    "    unique_list += shorter_names\n",
    "    \n",
    "unique_list = list(set(unique_list))"
   ]
  },
  {
   "cell_type": "code",
   "execution_count": 124,
   "id": "2be2abf2",
   "metadata": {},
   "outputs": [
    {
     "name": "stderr",
     "output_type": "stream",
     "text": [
      "/var/folders/dq/hnvtynkn1_39_ht_3rnbv2pc0000gp/T/ipykernel_2823/3383187295.py:3: UserWarning: This pattern has match groups. To actually get the groups, use str.extract.\n",
      "  this = df['movie_or_tv_name'].str.contains(name)\n"
     ]
    }
   ],
   "source": [
    "mydict = {}\n",
    "for name in unique_list:\n",
    "    this = df['movie_or_tv_name'].str.contains(name)\n",
    "    count = sum(this)\n",
    "    mydict[name] = count\n",
    "    \n",
    "mydf = pd.DataFrame(mydict.items(), columns=['movie_or_tv_name', 'count'])\n",
    "mydf = mydf.sort_values(by=['count'], ascending=False)"
   ]
  },
  {
   "cell_type": "markdown",
   "id": "a149107c",
   "metadata": {},
   "source": [
    "# Results!"
   ]
  },
  {
   "cell_type": "code",
   "execution_count": 119,
   "id": "080f765c",
   "metadata": {},
   "outputs": [
    {
     "data": {
      "text/html": [
       "<div>\n",
       "<style scoped>\n",
       "    .dataframe tbody tr th:only-of-type {\n",
       "        vertical-align: middle;\n",
       "    }\n",
       "\n",
       "    .dataframe tbody tr th {\n",
       "        vertical-align: top;\n",
       "    }\n",
       "\n",
       "    .dataframe thead th {\n",
       "        text-align: right;\n",
       "    }\n",
       "</style>\n",
       "<table border=\"1\" class=\"dataframe\">\n",
       "  <thead>\n",
       "    <tr style=\"text-align: right;\">\n",
       "      <th></th>\n",
       "      <th>movie_or_tv_name</th>\n",
       "      <th>count</th>\n",
       "    </tr>\n",
       "  </thead>\n",
       "  <tbody>\n",
       "    <tr>\n",
       "      <th>479</th>\n",
       "      <td>You</td>\n",
       "      <td>15</td>\n",
       "    </tr>\n",
       "    <tr>\n",
       "      <th>497</th>\n",
       "      <td>Hollywood</td>\n",
       "      <td>8</td>\n",
       "    </tr>\n",
       "    <tr>\n",
       "      <th>185</th>\n",
       "      <td>Bones</td>\n",
       "      <td>7</td>\n",
       "    </tr>\n",
       "    <tr>\n",
       "      <th>87</th>\n",
       "      <td>NCIS</td>\n",
       "      <td>7</td>\n",
       "    </tr>\n",
       "    <tr>\n",
       "      <th>704</th>\n",
       "      <td>House</td>\n",
       "      <td>6</td>\n",
       "    </tr>\n",
       "    <tr>\n",
       "      <th>...</th>\n",
       "      <td>...</td>\n",
       "      <td>...</td>\n",
       "    </tr>\n",
       "    <tr>\n",
       "      <th>775</th>\n",
       "      <td>Fill in the [Prank]</td>\n",
       "      <td>0</td>\n",
       "    </tr>\n",
       "    <tr>\n",
       "      <th>792</th>\n",
       "      <td>INST MSGS (Instant Messages)</td>\n",
       "      <td>0</td>\n",
       "    </tr>\n",
       "    <tr>\n",
       "      <th>232</th>\n",
       "      <td>ERA (Equal Rights for All)</td>\n",
       "      <td>0</td>\n",
       "    </tr>\n",
       "    <tr>\n",
       "      <th>592</th>\n",
       "      <td>The Smuggler (Avatar: The Last Airbender)</td>\n",
       "      <td>0</td>\n",
       "    </tr>\n",
       "    <tr>\n",
       "      <th>78</th>\n",
       "      <td>The $treet</td>\n",
       "      <td>0</td>\n",
       "    </tr>\n",
       "  </tbody>\n",
       "</table>\n",
       "<p>952 rows × 2 columns</p>\n",
       "</div>"
      ],
      "text/plain": [
       "                              movie_or_tv_name  count\n",
       "479                                        You     15\n",
       "497                                  Hollywood      8\n",
       "185                                      Bones      7\n",
       "87                                        NCIS      7\n",
       "704                                      House      6\n",
       "..                                         ...    ...\n",
       "775                        Fill in the [Prank]      0\n",
       "792               INST MSGS (Instant Messages)      0\n",
       "232                 ERA (Equal Rights for All)      0\n",
       "592  The Smuggler (Avatar: The Last Airbender)      0\n",
       "78                                  The $treet      0\n",
       "\n",
       "[952 rows x 2 columns]"
      ]
     },
     "execution_count": 119,
     "metadata": {},
     "output_type": "execute_result"
    }
   ],
   "source": [
    "mydf"
   ]
  },
  {
   "cell_type": "code",
   "execution_count": 121,
   "id": "86522573",
   "metadata": {},
   "outputs": [
    {
     "data": {
      "text/plain": [
       "['Emma', 'Bradley', 'Rocks', '']"
      ]
     },
     "execution_count": 121,
     "metadata": {},
     "output_type": "execute_result"
    }
   ],
   "source": [
    "this = \"Emma!!!Bradley!!!Rocks!!!\"\n",
    "this = this.split(\"!!!\")\n",
    "this"
   ]
  },
  {
   "cell_type": "code",
   "execution_count": null,
   "id": "1267174b",
   "metadata": {},
   "outputs": [],
   "source": []
  }
 ],
 "metadata": {
  "kernelspec": {
   "display_name": "Python [conda env:PIC16B] *",
   "language": "python",
   "name": "conda-env-PIC16B-py"
  },
  "language_info": {
   "codemirror_mode": {
    "name": "ipython",
    "version": 3
   },
   "file_extension": ".py",
   "mimetype": "text/x-python",
   "name": "python",
   "nbconvert_exporter": "python",
   "pygments_lexer": "ipython3",
   "version": "3.8.12"
  }
 },
 "nbformat": 4,
 "nbformat_minor": 5
}
