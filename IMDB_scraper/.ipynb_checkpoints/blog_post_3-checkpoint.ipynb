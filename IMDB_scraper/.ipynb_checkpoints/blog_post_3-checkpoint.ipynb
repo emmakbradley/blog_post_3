{
 "cells": [
  {
   "cell_type": "markdown",
   "id": "d4200752",
   "metadata": {},
   "source": [
    "Hello dear reader and welcome back! For today's blog post you will be learning how to use the Scrapy Python package to extract valuable data from websites. Our goal today is to build a simple recommendation system that will recommend movies or TV shows based on the number of actors a title shares with your favorite movie or TV show. We will extract this data from the IMDB website. Let's get started!\n",
    "\n",
    "## Getting Started with Scrapy\n",
    "\n",
    "Once you have properly installed Scrapy to your device's PIC16B environment, the first step is to created a GitHub repository and initialize your project. Run the following commands in your terminal."
   ]
  },
  {
   "cell_type": "code",
   "execution_count": null,
   "id": "d2503238",
   "metadata": {},
   "outputs": [],
   "source": [
    "conda activate PIC16B\n",
    "scrapy startproject IMDB_scraper\n",
    "cd IMDB_scraper"
   ]
  },
  {
   "cell_type": "markdown",
   "id": "470c18a4",
   "metadata": {},
   "source": [
    "Next up we will create a new file inside the `spiders` directory and title it `imdb_spider.py`. We will implement our spider in the `ImdbSpider` class of this file. The scraper works by calling various parsing methods in the `ImdbSpider` class to extract data from the web.  Add the following code to your new file. My favorte TV show is \"Grey's Anatomy\", so the URL that I added below links to the Grey's Anatomy page on IMDB. If you have a different favorite TV show or movie, feel free to change the url down below."
   ]
  },
  {
   "cell_type": "code",
   "execution_count": null,
   "id": "b2eb9bf1",
   "metadata": {},
   "outputs": [],
   "source": [
    "import scrapy\n",
    "\n",
    "class ImdbSpider(scrapy.Spider):\n",
    "    name = 'imdb_spider'\n",
    "    \n",
    "    start_urls = ['https://www.imdb.com/title/tt0413573/']"
   ]
  },
  {
   "cell_type": "markdown",
   "id": "acb53fa8",
   "metadata": {},
   "source": [
    "## Our Parsing Methods\n",
    "Our parsing methods work by essentially clicking around on the IMDB website as directed and extracting the requested data. Scrapy is able to do so by making use of two of its objects: `request` and `response`. You will see the `request` object often called at the end of each parse function below so that the next corresponding parse function is called and so that the spider can continue to scrape data. The `response` object is called so that the spider can access the data on the web page accordingly.\n",
    "\n",
    "### parse(self, response)\n",
    "Our first method starts on a title's home page and navigates to its Cast and Crew page. When we perform this action manually on the IMDB website, we see that the only difference in URL's is that the Cast and Crew page has `fullcredits/` appended to the end of our initial URL. The following function does exactly this and appends `fullcredits/` to the end of our initial URL found in the `response` object. At the end of our function we then yield a `request` object containing `next_page`, our new url we are \"clicking\" on, and `self.parse_full_credits`, the next parse method we will call."
   ]
  },
  {
   "cell_type": "code",
   "execution_count": null,
   "id": "a057756a",
   "metadata": {},
   "outputs": [],
   "source": [
    "def parse(self, response):\n",
    "    '''\n",
    "    A parsing method that navigates from a title's home page to its Cast and Crew page.\n",
    "    '''\n",
    "    # string to append to initial url\n",
    "    next_page = \"fullcredits/\"\n",
    "\n",
    "    # append string and call next parsing method\n",
    "    if next_page:\n",
    "        next_page = response.urljoin(next_page)\n",
    "        yield scrapy.Request(next_page, callback = self.parse_full_credits)"
   ]
  },
  {
   "cell_type": "markdown",
   "id": "20b93d3a",
   "metadata": {},
   "source": [
    "### parse_full_credits(self, response)\n",
    "Our next parsing method navigates to each actor's IMDB page. We do this using the list comprehension below. The URL for each page is stored in the `a` class with attribute `href`"
   ]
  },
  {
   "cell_type": "code",
   "execution_count": null,
   "id": "32521c4e",
   "metadata": {},
   "outputs": [],
   "source": [
    "def parse_full_credits(self, response):\n",
    "    '''\n",
    "    A parsing method that navigates to each actor's profile in a title's IMDB\n",
    "    Cast and Crew page\n",
    "    '''\n",
    "    \n",
    "    # a list of all links to each actor's IMDB page\n",
    "    next_page_list = [a.attrib[\"href\"] for a in response.css(\"td.primary_photo a\")]\n",
    "\n",
    "    # navigate to each actor's IMDB page\n",
    "    for next_page in next_page_list:\n",
    "        next_page = response.urljoin(next_page)\n",
    "        yield scrapy.Request(next_page, callback = self.parse_actor_page)"
   ]
  },
  {
   "cell_type": "markdown",
   "id": "2beb41e1",
   "metadata": {},
   "source": [
    "### parse_actor_page"
   ]
  },
  {
   "cell_type": "code",
   "execution_count": null,
   "id": "5b9a17b8",
   "metadata": {},
   "outputs": [],
   "source": [
    "def parse_actor_page(self, response):\n",
    "\n",
    "    actor_name = response.css(\"span.itemprop::text\").get()\n",
    "        \n",
    "    for element in response.css(\"div.filmo-row\"):\n",
    "        element = response.css(\"b\")\n",
    "        movie_or_tv_name = element.css(\"a::text\").getall()\n",
    "\n",
    "        this_title = \"Grey's Anatomy\"\n",
    "        movie_or_tv_name = [a for a in movie_or_tv_name if this_title not in a]\n",
    "\n",
    "    yield {\n",
    "        \"actor\" : actor_name,\n",
    "        \"movie_or_tv_name\": movie_or_tv_name,\n",
    "    }"
   ]
  },
  {
   "cell_type": "markdown",
   "id": "afebd161",
   "metadata": {},
   "source": [
    "## Deploying our Spider\n",
    "\n",
    "We are almost done! Our last step is to run the following command in our terminal. A csv file of the results will then be generated in our `IMDB_scraper` directory. "
   ]
  },
  {
   "cell_type": "code",
   "execution_count": null,
   "id": "69ccb3aa",
   "metadata": {},
   "outputs": [],
   "source": [
    "scrapy crawl imdb_spider -o results.csv"
   ]
  },
  {
   "cell_type": "markdown",
   "id": "5547bd24",
   "metadata": {},
   "source": [
    "## Displaying our Data"
   ]
  },
  {
   "cell_type": "code",
   "execution_count": 1,
   "id": "3648bb1d",
   "metadata": {},
   "outputs": [],
   "source": [
    "import pandas as pd\n",
    "import numpy as np"
   ]
  },
  {
   "cell_type": "code",
   "execution_count": 11,
   "id": "de258dd9",
   "metadata": {},
   "outputs": [],
   "source": [
    "df = pd.read_csv(\"results.csv\")\n",
    "df = df.dropna()"
   ]
  },
  {
   "cell_type": "code",
   "execution_count": 12,
   "id": "b76b4bf3",
   "metadata": {},
   "outputs": [],
   "source": [
    "# get all unique movie or tv show names\n",
    "all_names = df['movie_or_tv_name']\n",
    "unique_list = []\n",
    "for names in all_names:\n",
    "    shorter_names = names.split(\",\")\n",
    "    unique_list += shorter_names\n",
    "    \n",
    "unique_list = list(set(unique_list))"
   ]
  },
  {
   "cell_type": "code",
   "execution_count": 13,
   "id": "2be2abf2",
   "metadata": {},
   "outputs": [
    {
     "name": "stderr",
     "output_type": "stream",
     "text": [
      "/var/folders/dq/hnvtynkn1_39_ht_3rnbv2pc0000gp/T/ipykernel_191/2235483014.py:3: UserWarning: This pattern has match groups. To actually get the groups, use str.extract.\n",
      "  this = df['movie_or_tv_name'].str.contains(name)\n"
     ]
    }
   ],
   "source": [
    "mydict = {}\n",
    "for name in unique_list:\n",
    "    this = df['movie_or_tv_name'].str.contains(name)\n",
    "    count = sum(this)\n",
    "    mydict[name] = count\n",
    "    \n",
    "mydf = pd.DataFrame(mydict.items(), columns=['movie_or_tv_name', 'count'])\n",
    "mydf = mydf.sort_values(by=['count'], ascending=False)"
   ]
  },
  {
   "cell_type": "markdown",
   "id": "f15dd1fe",
   "metadata": {},
   "source": [
    "# Results!"
   ]
  },
  {
   "cell_type": "code",
   "execution_count": 21,
   "id": "080f765c",
   "metadata": {},
   "outputs": [
    {
     "data": {
      "text/html": [
       "<div>\n",
       "<style scoped>\n",
       "    .dataframe tbody tr th:only-of-type {\n",
       "        vertical-align: middle;\n",
       "    }\n",
       "\n",
       "    .dataframe tbody tr th {\n",
       "        vertical-align: top;\n",
       "    }\n",
       "\n",
       "    .dataframe thead th {\n",
       "        text-align: right;\n",
       "    }\n",
       "</style>\n",
       "<table border=\"1\" class=\"dataframe\">\n",
       "  <thead>\n",
       "    <tr style=\"text-align: right;\">\n",
       "      <th></th>\n",
       "      <th>movie_or_tv_name</th>\n",
       "      <th>count</th>\n",
       "    </tr>\n",
       "  </thead>\n",
       "  <tbody>\n",
       "    <tr>\n",
       "      <th>655</th>\n",
       "      <td>You</td>\n",
       "      <td>15</td>\n",
       "    </tr>\n",
       "    <tr>\n",
       "      <th>522</th>\n",
       "      <td>Hollywood</td>\n",
       "      <td>9</td>\n",
       "    </tr>\n",
       "    <tr>\n",
       "      <th>795</th>\n",
       "      <td>NCIS</td>\n",
       "      <td>8</td>\n",
       "    </tr>\n",
       "    <tr>\n",
       "      <th>871</th>\n",
       "      <td>Special</td>\n",
       "      <td>7</td>\n",
       "    </tr>\n",
       "    <tr>\n",
       "      <th>531</th>\n",
       "      <td>Grace</td>\n",
       "      <td>6</td>\n",
       "    </tr>\n",
       "    <tr>\n",
       "      <th>579</th>\n",
       "      <td>Dog</td>\n",
       "      <td>6</td>\n",
       "    </tr>\n",
       "    <tr>\n",
       "      <th>263</th>\n",
       "      <td>Entertainment Tonight</td>\n",
       "      <td>6</td>\n",
       "    </tr>\n",
       "    <tr>\n",
       "      <th>984</th>\n",
       "      <td>Bones</td>\n",
       "      <td>6</td>\n",
       "    </tr>\n",
       "    <tr>\n",
       "      <th>190</th>\n",
       "      <td>Stars</td>\n",
       "      <td>6</td>\n",
       "    </tr>\n",
       "    <tr>\n",
       "      <th>459</th>\n",
       "      <td>House</td>\n",
       "      <td>6</td>\n",
       "    </tr>\n",
       "    <tr>\n",
       "      <th>1051</th>\n",
       "      <td>Law &amp; Order</td>\n",
       "      <td>5</td>\n",
       "    </tr>\n",
       "    <tr>\n",
       "      <th>703</th>\n",
       "      <td>Hero</td>\n",
       "      <td>5</td>\n",
       "    </tr>\n",
       "    <tr>\n",
       "      <th>757</th>\n",
       "      <td>Scandal</td>\n",
       "      <td>5</td>\n",
       "    </tr>\n",
       "    <tr>\n",
       "      <th>484</th>\n",
       "      <td>NCIS: Los Angeles</td>\n",
       "      <td>4</td>\n",
       "    </tr>\n",
       "    <tr>\n",
       "      <th>584</th>\n",
       "      <td>Heroes</td>\n",
       "      <td>4</td>\n",
       "    </tr>\n",
       "    <tr>\n",
       "      <th>574</th>\n",
       "      <td>Ellen</td>\n",
       "      <td>4</td>\n",
       "    </tr>\n",
       "    <tr>\n",
       "      <th>708</th>\n",
       "      <td>Criminal Minds</td>\n",
       "      <td>4</td>\n",
       "    </tr>\n",
       "    <tr>\n",
       "      <th>881</th>\n",
       "      <td>Women</td>\n",
       "      <td>4</td>\n",
       "    </tr>\n",
       "    <tr>\n",
       "      <th>119</th>\n",
       "      <td>Vegas</td>\n",
       "      <td>4</td>\n",
       "    </tr>\n",
       "    <tr>\n",
       "      <th>451</th>\n",
       "      <td>CSI: Crime Scene Investigation</td>\n",
       "      <td>4</td>\n",
       "    </tr>\n",
       "  </tbody>\n",
       "</table>\n",
       "</div>"
      ],
      "text/plain": [
       "                    movie_or_tv_name  count\n",
       "655                              You     15\n",
       "522                        Hollywood      9\n",
       "795                             NCIS      8\n",
       "871                          Special      7\n",
       "531                            Grace      6\n",
       "579                              Dog      6\n",
       "263            Entertainment Tonight      6\n",
       "984                            Bones      6\n",
       "190                            Stars      6\n",
       "459                            House      6\n",
       "1051                     Law & Order      5\n",
       "703                             Hero      5\n",
       "757                          Scandal      5\n",
       "484                NCIS: Los Angeles      4\n",
       "584                           Heroes      4\n",
       "574                            Ellen      4\n",
       "708                   Criminal Minds      4\n",
       "881                            Women      4\n",
       "119                            Vegas      4\n",
       "451   CSI: Crime Scene Investigation      4"
      ]
     },
     "execution_count": 21,
     "metadata": {},
     "output_type": "execute_result"
    }
   ],
   "source": [
    "mydf[0:20]"
   ]
  },
  {
   "cell_type": "code",
   "execution_count": null,
   "id": "86522573",
   "metadata": {},
   "outputs": [],
   "source": []
  }
 ],
 "metadata": {
  "kernelspec": {
   "display_name": "Python [conda env:PIC16B] *",
   "language": "python",
   "name": "conda-env-PIC16B-py"
  },
  "language_info": {
   "codemirror_mode": {
    "name": "ipython",
    "version": 3
   },
   "file_extension": ".py",
   "mimetype": "text/x-python",
   "name": "python",
   "nbconvert_exporter": "python",
   "pygments_lexer": "ipython3",
   "version": "3.8.12"
  }
 },
 "nbformat": 4,
 "nbformat_minor": 5
}
